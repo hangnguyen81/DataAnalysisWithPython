{
 "metadata": {
  "language_info": {
   "codemirror_mode": {
    "name": "ipython",
    "version": 3
   },
   "file_extension": ".py",
   "mimetype": "text/x-python",
   "name": "python",
   "nbconvert_exporter": "python",
   "pygments_lexer": "ipython3",
   "version": "3.9.1"
  },
  "orig_nbformat": 2,
  "kernelspec": {
   "name": "python391jvsc74a57bd063fd5069d213b44bf678585dea6b12cceca9941eaf7f819626cde1f2670de90d",
   "display_name": "Python 3.9.1 64-bit"
  },
  "metadata": {
   "interpreter": {
    "hash": "63fd5069d213b44bf678585dea6b12cceca9941eaf7f819626cde1f2670de90d"
   }
  }
 },
 "nbformat": 4,
 "nbformat_minor": 2,
 "cells": [
  {
   "cell_type": "code",
   "execution_count": 1,
   "metadata": {},
   "outputs": [],
   "source": [
    "import numpy as np\n"
   ]
  },
  {
   "source": [
    "## Creation of numpy arrary"
   ],
   "cell_type": "markdown",
   "metadata": {}
  },
  {
   "cell_type": "code",
   "execution_count": 2,
   "metadata": {},
   "outputs": [
    {
     "output_type": "stream",
     "name": "stdout",
     "text": [
      "[1 2 3]\n[[1 2 3]\n [4 5 6]]\n[[[1 2]\n  [3 4]\n  [5 6]]]\n"
     ]
    }
   ],
   "source": [
    "# 1 dimension\n",
    "a1d = np.array([1,2,3])\n",
    "print(a1d)\n",
    "# 2 dimensions\n",
    "a2d = np.array([[1,2,3],[4,5,6]])\n",
    "print(a2d)\n",
    "# 3 dimensions\n",
    "a3d = np.array([[[1,2],[3,4],[5,6]]])\n",
    "print(a3d)"
   ]
  },
  {
   "cell_type": "code",
   "execution_count": 3,
   "metadata": {},
   "outputs": [
    {
     "output_type": "stream",
     "name": "stdout",
     "text": [
      "[[0. 0. 0. 0.]\n [0. 0. 0. 0.]\n [0. 0. 0. 0.]]\n"
     ]
    },
    {
     "output_type": "execute_result",
     "data": {
      "text/plain": [
       "array([[0, 0, 0, 0],\n",
       "       [0, 0, 0, 0],\n",
       "       [0, 0, 0, 0]])"
      ]
     },
     "metadata": {},
     "execution_count": 3
    }
   ],
   "source": [
    "# some helper functions to create common types of arrays:\n",
    "print(np.zeros((3,4)))\n",
    "#To specify that elements are ints instead of floats, use the parameter dtype:\n",
    "np.zeros((3,4), dtype=int)"
   ]
  },
  {
   "cell_type": "code",
   "execution_count": 4,
   "metadata": {},
   "outputs": [
    {
     "output_type": "execute_result",
     "data": {
      "text/plain": [
       "array([[    0,     1,     0,    32],\n",
       "       [  988,     0,   768, 32765]])"
      ]
     },
     "metadata": {},
     "execution_count": 4
    }
   ],
   "source": [
    "# Similarly ones initializes all elements to one, full initializes all elements to a specified value, and empty leaves the elements uninitialized:\n",
    "np.ones((3,4), dtype=int)\n",
    "np.full((3,4), fill_value=2)\n",
    "np.empty((2,4),dtype=int)"
   ]
  },
  {
   "cell_type": "code",
   "execution_count": 5,
   "metadata": {},
   "outputs": [
    {
     "output_type": "execute_result",
     "data": {
      "text/plain": [
       "array([[1, 0, 0, 0],\n",
       "       [0, 1, 0, 0],\n",
       "       [0, 0, 1, 0],\n",
       "       [0, 0, 0, 1]])"
      ]
     },
     "metadata": {},
     "execution_count": 5
    }
   ],
   "source": [
    "# The eye function creates the identity matrix, that is, a matrix with elements on the diagonal are set to one, and non-diagonal elements are set to zero:\n",
    "np.eye(4, dtype=int)"
   ]
  },
  {
   "cell_type": "code",
   "execution_count": 6,
   "metadata": {},
   "outputs": [
    {
     "output_type": "execute_result",
     "data": {
      "text/plain": [
       "array([0, 3, 6, 9])"
      ]
     },
     "metadata": {},
     "execution_count": 6
    }
   ],
   "source": [
    "#The arange function works like the range function, but produces an array instead of a list.\n",
    "np.arange(0,10,3)"
   ]
  },
  {
   "cell_type": "code",
   "execution_count": 7,
   "metadata": {},
   "outputs": [
    {
     "output_type": "execute_result",
     "data": {
      "text/plain": [
       "array([1.        , 1.44444444, 1.88888889, 2.33333333, 2.77777778,\n",
       "       3.22222222, 3.66666667, 4.11111111, 4.55555556, 5.        ])"
      ]
     },
     "metadata": {},
     "execution_count": 7
    }
   ],
   "source": [
    "# With linspace one does not have to compute the length of the step, but instead one specifies the wanted number of elements. By default, the endpoint is included in the result, unlike with arange.\n",
    "np.linspace(1,5,10)"
   ]
  },
  {
   "source": [
    "## Arrays with random elements"
   ],
   "cell_type": "markdown",
   "metadata": {}
  },
  {
   "cell_type": "code",
   "execution_count": 8,
   "metadata": {},
   "outputs": [
    {
     "output_type": "execute_result",
     "data": {
      "text/plain": [
       "array([0.66827072, 0.70223089, 0.45519834])"
      ]
     },
     "metadata": {},
     "execution_count": 8
    }
   ],
   "source": [
    "from numpy import random as rd \n",
    "rd.random(3)"
   ]
  },
  {
   "cell_type": "code",
   "execution_count": 9,
   "metadata": {},
   "outputs": [
    {
     "output_type": "execute_result",
     "data": {
      "text/plain": [
       "array([[0.46012181, 0.12078523, 0.78017467, 0.3950009 ],\n",
       "       [0.42315393, 0.53046753, 0.9708274 , 0.09665513],\n",
       "       [0.75218745, 0.7916162 , 0.40374613, 0.75113595]])"
      ]
     },
     "metadata": {},
     "execution_count": 9
    }
   ],
   "source": [
    "## Elements are uniformly distributed from half-open interval [0.0,1.0)\n",
    "rd.random((3,4)) "
   ]
  },
  {
   "cell_type": "code",
   "execution_count": 10,
   "metadata": {},
   "outputs": [
    {
     "output_type": "execute_result",
     "data": {
      "text/plain": [
       "array([[-1.27655777,  1.23155361,  0.91117913,  0.33537136],\n",
       "       [ 0.24570941, -0.78201422, -0.39667706, -0.97914449],\n",
       "       [-0.41223487,  1.09669066, -0.56161799,  0.43702671]])"
      ]
     },
     "metadata": {},
     "execution_count": 10
    }
   ],
   "source": [
    "# # Elements are normally distributed with mean 0 and standard deviation 1\n",
    "rd.normal(0, 1, (3,4))"
   ]
  },
  {
   "cell_type": "code",
   "execution_count": 11,
   "metadata": {},
   "outputs": [
    {
     "output_type": "execute_result",
     "data": {
      "text/plain": [
       "array([[ 3,  6, -2,  9],\n",
       "       [ 7,  3,  8,  4],\n",
       "       [ 6, -2,  5,  6]])"
      ]
     },
     "metadata": {},
     "execution_count": 11
    }
   ],
   "source": [
    " # Elements are uniformly distributed integers from the half-open interval [-2,10)\n",
    " rd.randint(-2,10,(3,4))"
   ]
  },
  {
   "cell_type": "code",
   "execution_count": 12,
   "metadata": {},
   "outputs": [
    {
     "output_type": "stream",
     "name": "stdout",
     "text": [
      "[ 9 15 64 28 89 93 29  8 73  0]\n[-0.68212385 -0.46121833  0.96566614  0.56066394  0.74993163 -0.31455963\n  0.36624858  0.60808856 -1.08684028  0.12055902]\n"
     ]
    }
   ],
   "source": [
    "# Sometimes it is useful to be able to recreate exactly the same data in every run of our program. For example, if there is a bug in our program, which manifests itself only with certain input, then to debug our program it needs to behave deterministically. We can create random numbers deterministically, if we always start from the same starting point. This starting point is usually an integer, and we call it a seed\n",
    "rd.seed(10)\n",
    "print(rd.randint(0, 100, 10))\n",
    "print(rd.normal(0, 1, 10))"
   ]
  },
  {
   "cell_type": "code",
   "execution_count": 13,
   "metadata": {},
   "outputs": [
    {
     "output_type": "execute_result",
     "data": {
      "text/plain": [
       "array([66, 92, 98, 17, 83, 57, 86, 97, 96, 47])"
      ]
     },
     "metadata": {},
     "execution_count": 13
    }
   ],
   "source": [
    "new_generator = rd.RandomState(seed=123)  # RandomState is a class, so we give the seed to its constructor\n",
    "new_generator.randint(0, 100, 10)"
   ]
  },
  {
   "source": [
    "## Array types and attributes\n",
    "An array has several attributes: \n",
    "* ndim tells the number of dimensions, \n",
    "* shape tells the size in each dimension, \n",
    "* size tells the number of elements, \n",
    "* dtype tells the element type. "
   ],
   "cell_type": "markdown",
   "metadata": {}
  },
  {
   "cell_type": "code",
   "execution_count": 14,
   "metadata": {},
   "outputs": [],
   "source": [
    "# Let’s create a helper function to explore these attributes:\n",
    "def info(name, a):\n",
    "    print(f\"{name} has dim {a.ndim}, shape {a.shape}, size {a.size}, and dtype {a.dtype}:\")\n",
    "    print(a)"
   ]
  },
  {
   "cell_type": "code",
   "execution_count": 15,
   "metadata": {},
   "outputs": [
    {
     "output_type": "stream",
     "name": "stdout",
     "text": [
      "b has dim 2, shape (2, 3), size 6, and dtype int32:\n[[1 2 3]\n [4 5 6]]\n"
     ]
    }
   ],
   "source": [
    "b=np.array([[1,2,3], [4,5,6]])\n",
    "info(\"b\", b)"
   ]
  },
  {
   "cell_type": "code",
   "execution_count": 16,
   "metadata": {},
   "outputs": [
    {
     "output_type": "stream",
     "name": "stdout",
     "text": [
      "c has dim 3, shape (2, 2, 3), size 12, and dtype int32:\n[[[1 2 3]\n  [4 5 6]]\n\n [[1 2 3]\n  [4 5 6]]]\n"
     ]
    }
   ],
   "source": [
    "c=np.array([b, b])          # Creates a 3-dimensional array\n",
    "info(\"c\", c)"
   ]
  },
  {
   "source": [
    "Note above how Python printed the three dimensional array. The general rules of printing an n-dimensional array as a nested list are:\n",
    "\n",
    "* the last dimension is printed from left to right,\n",
    "* the second-to-last is printed from top to bottom,\n",
    "* the rest are also printed from top to bottom, with each slice separated from the next by an empty line."
   ],
   "cell_type": "markdown",
   "metadata": {}
  },
  {
   "cell_type": "code",
   "execution_count": 17,
   "metadata": {},
   "outputs": [
    {
     "output_type": "stream",
     "name": "stdout",
     "text": [
      "d has dim 2, shape (1, 4), size 4, and dtype int32:\n[[1 2 3 4]]\n"
     ]
    }
   ],
   "source": [
    "d=np.array([[1,2,3,4]])                # a row vector\n",
    "info(\"d\", d)"
   ]
  },
  {
   "source": [
    "## Indexing, slicing and reshaping"
   ],
   "cell_type": "markdown",
   "metadata": {}
  },
  {
   "source": [
    "### Indexing"
   ],
   "cell_type": "markdown",
   "metadata": {}
  },
  {
   "cell_type": "code",
   "execution_count": 18,
   "metadata": {},
   "outputs": [
    {
     "output_type": "stream",
     "name": "stdout",
     "text": [
      "4\n9\n"
     ]
    }
   ],
   "source": [
    "# One dimensional array behaves like the list in Python:\n",
    "a=np.array([1,4,2,7,9,5])\n",
    "print(a[1])\n",
    "print(a[-2])"
   ]
  },
  {
   "cell_type": "code",
   "execution_count": 19,
   "metadata": {},
   "outputs": [
    {
     "output_type": "stream",
     "name": "stdout",
     "text": [
      "[[1 2 3]\n [4 5 6]]\n6\n3\n"
     ]
    }
   ],
   "source": [
    "# For multi-dimensional array the index is a comma separated tuple instead of a single integer:\n",
    "b=np.array([[1,2,3], [4,5,6]])\n",
    "print(b)\n",
    "print(b[1,2])    # row index 1, column index 2\n",
    "print(b[0,-1])   # row index 0, column index -1"
   ]
  },
  {
   "cell_type": "code",
   "execution_count": 20,
   "metadata": {},
   "outputs": [
    {
     "output_type": "stream",
     "name": "stdout",
     "text": [
      "[[10  2  3]\n [ 4  5  6]]\n"
     ]
    }
   ],
   "source": [
    "# As with lists, modification through indexing is possible\n",
    "b[0,0] = 10\n",
    "print(b)"
   ]
  },
  {
   "cell_type": "code",
   "execution_count": 21,
   "metadata": {},
   "outputs": [
    {
     "output_type": "stream",
     "name": "stdout",
     "text": [
      "[10  2  3]\n[4 5 6]\n"
     ]
    }
   ],
   "source": [
    "#Note that if you give only a single index to a multi-dimensional array, it indexes the first dimension of the array, that is the rows. For example:\n",
    "\n",
    "print(b[0])    # First row\n",
    "print(b[1])    # Second row"
   ]
  },
  {
   "source": [
    "### Slicing\n",
    "Slicing works similarly to lists, but now we can have slices in different dimensions:"
   ],
   "cell_type": "markdown",
   "metadata": {}
  },
  {
   "cell_type": "code",
   "execution_count": 22,
   "metadata": {},
   "outputs": [
    {
     "output_type": "stream",
     "name": "stdout",
     "text": [
      "[1 4 2 7 9 5]\n[4 2]\n[5 9 7 2 4 1]\n"
     ]
    }
   ],
   "source": [
    "print(a)\n",
    "print(a[1:3])\n",
    "print(a[::-1])    # Reverses the array"
   ]
  },
  {
   "cell_type": "code",
   "execution_count": 23,
   "metadata": {},
   "outputs": [
    {
     "output_type": "stream",
     "name": "stdout",
     "text": [
      "[[10  2  3]\n [ 4  5  6]]\n[10  4]\n[10  2  3]\n[[2 3]\n [5 6]]\n"
     ]
    }
   ],
   "source": [
    "print(b)\n",
    "print(b[:,0])\n",
    "print(b[0,:])\n",
    "print(b[:,1:])"
   ]
  },
  {
   "cell_type": "code",
   "execution_count": 24,
   "metadata": {},
   "outputs": [
    {
     "output_type": "stream",
     "name": "stdout",
     "text": [
      "[[10  7  7]\n [ 4  7  7]]\n"
     ]
    }
   ],
   "source": [
    "#We can even assign to a slice:\n",
    "b[:,1:] = 7\n",
    "print(b)"
   ]
  },
  {
   "cell_type": "code",
   "execution_count": 25,
   "metadata": {},
   "outputs": [
    {
     "output_type": "stream",
     "name": "stdout",
     "text": [
      "[10  4]\n[4 7 7]\n"
     ]
    }
   ],
   "source": [
    "#A common idiom is to extract rows or columns from an array:\n",
    "print(b[:,0])    # First column\n",
    "print(b[1,:])    # Second row"
   ]
  },
  {
   "source": [
    "## Reshaping\n",
    "When an array is reshaped, its number of elements stays the same, but they are reinterpreted to have a different shape. An example of this is to interpret a one dimensional array as two dimension array:"
   ],
   "cell_type": "markdown",
   "metadata": {}
  },
  {
   "cell_type": "code",
   "execution_count": 26,
   "metadata": {},
   "outputs": [
    {
     "output_type": "stream",
     "name": "stdout",
     "text": [
      "anew has dim 2, shape (3, 3), size 9, and dtype int32:\n[[0 1 2]\n [3 4 5]\n [6 7 8]]\na has dim 1, shape (9,), size 9, and dtype int32:\n[0 1 2 3 4 5 6 7 8]\n"
     ]
    }
   ],
   "source": [
    "a=np.arange(9)\n",
    "anew=a.reshape(3,3)\n",
    "info(\"anew\", anew)\n",
    "info(\"a\", a)"
   ]
  },
  {
   "cell_type": "code",
   "execution_count": 27,
   "metadata": {},
   "outputs": [
    {
     "output_type": "stream",
     "name": "stdout",
     "text": [
      "d has dim 1, shape (4,), size 4, and dtype int32:\n[0 1 2 3]\ndr has dim 2, shape (1, 4), size 4, and dtype int32:\n[[0 1 2 3]]\ndc has dim 2, shape (4, 1), size 4, and dtype int32:\n[[0]\n [1]\n [2]\n [3]]\n"
     ]
    }
   ],
   "source": [
    "d=np.arange(4)             # 1d array\n",
    "dr=d.reshape(1,4)          # row vector\n",
    "dc=d.reshape(4,1)          # column vector\n",
    "info(\"d\", d)\n",
    "info(\"dr\", dr)\n",
    "info(\"dc\", dc)"
   ]
  },
  {
   "source": [
    "Note the 1d array and the row and column vectors, which are 2d arrays, are fundamentally different objects, even though they look similar. They behave differently when we combine or otherwise operate arrays of different shapes, as we shall see in the next section and later in this material."
   ],
   "cell_type": "markdown",
   "metadata": {}
  },
  {
   "cell_type": "code",
   "execution_count": 28,
   "metadata": {},
   "outputs": [
    {
     "output_type": "stream",
     "name": "stdout",
     "text": [
      "d has dim 1, shape (4,), size 4, and dtype int32:\n[0 1 2 3]\ndrow has dim 2, shape (1, 4), size 4, and dtype int32:\n[[0 1 2 3]]\ndcol has dim 2, shape (4, 1), size 4, and dtype int32:\n[[0]\n [1]\n [2]\n [3]]\n"
     ]
    }
   ],
   "source": [
    "# An alternative syntax to create, for example, column or row vectors is through the np.newaxis keyword. \n",
    "# Sometimes this is easier or more natural than with the reshape method:\n",
    "info(\"d\", d)\n",
    "info(\"drow\", d[np.newaxis, :])\n",
    "info(\"dcol\", d[:, np.newaxis])"
   ]
  },
  {
   "source": [
    "## Array concatenation, splitting and stacking\n",
    "The are two ways of combining several arrays into one bigger array: concatenate and stack. Concatenate takes n-dimensional arrays and returns an n-dimensional array, whereas stack takes n-dimensional arrays and returns n+1-dimensional array. Few examples of these:"
   ],
   "cell_type": "markdown",
   "metadata": {}
  },
  {
   "cell_type": "code",
   "execution_count": 29,
   "metadata": {},
   "outputs": [
    {
     "output_type": "stream",
     "name": "stdout",
     "text": [
      "a has shape (2,): [0 1]\nb has shape (3,): [2 3 4]\n"
     ]
    },
    {
     "output_type": "execute_result",
     "data": {
      "text/plain": [
       "array([0, 1, 2, 3, 4])"
      ]
     },
     "metadata": {},
     "execution_count": 29
    }
   ],
   "source": [
    "a=np.arange(2)\n",
    "b=np.arange(2,5)\n",
    "print(f\"a has shape {a.shape}: {a}\")\n",
    "print(f\"b has shape {b.shape}: {b}\")\n",
    "np.concatenate((a,b))  # concatenating 1d arrays"
   ]
  },
  {
   "cell_type": "code",
   "execution_count": 30,
   "metadata": {},
   "outputs": [
    {
     "output_type": "stream",
     "name": "stdout",
     "text": [
      "c has shape (2, 2):\n[[1 2]\n [3 4]]\n"
     ]
    },
    {
     "output_type": "execute_result",
     "data": {
      "text/plain": [
       "array([[1, 2],\n",
       "       [3, 4],\n",
       "       [1, 2],\n",
       "       [3, 4]])"
      ]
     },
     "metadata": {},
     "execution_count": 30
    }
   ],
   "source": [
    "c=np.arange(1,5).reshape(2,2)\n",
    "print(f\"c has shape {c.shape}:\", c, sep=\"\\n\")\n",
    "np.concatenate((c,c))   # concatenating 2d arrays"
   ]
  },
  {
   "cell_type": "code",
   "execution_count": 31,
   "metadata": {},
   "outputs": [
    {
     "output_type": "execute_result",
     "data": {
      "text/plain": [
       "array([[1, 2, 1, 2],\n",
       "       [3, 4, 3, 4]])"
      ]
     },
     "metadata": {},
     "execution_count": 31
    }
   ],
   "source": [
    "#By default concatenate joins the arrays along axis 0. To join the arrays horizontally, add parameter axis=1:\n",
    "np.concatenate((c,c), axis=1)"
   ]
  },
  {
   "cell_type": "code",
   "execution_count": 32,
   "metadata": {},
   "outputs": [
    {
     "output_type": "stream",
     "name": "stdout",
     "text": [
      "New row:\n[[1 2]\n [3 4]\n [0 1]]\nNew column:\n[[1 2 0]\n [3 4 1]]\n"
     ]
    }
   ],
   "source": [
    "# If you want to catenate arrays with different dimensions, for example to add a new column to a 2d array, you must first reshape the arrays to have same number of dimensions:\n",
    "print(\"New row:\")\n",
    "print(np.concatenate((c,a.reshape(1,2))))\n",
    "print(\"New column:\")\n",
    "print(np.concatenate((c,a.reshape(2,1)), axis=1))"
   ]
  },
  {
   "cell_type": "code",
   "execution_count": 33,
   "metadata": {},
   "outputs": [
    {
     "output_type": "execute_result",
     "data": {
      "text/plain": [
       "array([[2, 3, 4],\n",
       "       [2, 3, 4]])"
      ]
     },
     "metadata": {},
     "execution_count": 33
    }
   ],
   "source": [
    "#Use stack to create higher dimensional arrays from lower dimensional arrays:\n",
    "np.stack((b,b))"
   ]
  },
  {
   "cell_type": "code",
   "execution_count": 34,
   "metadata": {},
   "outputs": [
    {
     "output_type": "execute_result",
     "data": {
      "text/plain": [
       "array([[2, 2],\n",
       "       [3, 3],\n",
       "       [4, 4]])"
      ]
     },
     "metadata": {},
     "execution_count": 34
    }
   ],
   "source": [
    "np.stack((b,b), axis=1)"
   ]
  },
  {
   "cell_type": "code",
   "execution_count": 35,
   "metadata": {},
   "outputs": [
    {
     "output_type": "stream",
     "name": "stdout",
     "text": [
      "d:\n[[ 0  1]\n [ 2  3]\n [ 4  5]\n [ 6  7]\n [ 8  9]\n [10 11]]\nd1:\n[[0 1]\n [2 3]\n [4 5]]\nd2:\n[[ 6  7]\n [ 8  9]\n [10 11]]\nd3:\n[[ 0]\n [ 2]\n [ 4]\n [ 6]\n [ 8]\n [10]]\nd4:\n[[ 1]\n [ 3]\n [ 5]\n [ 7]\n [ 9]\n [11]]\n"
     ]
    }
   ],
   "source": [
    "# Inverse operation of concatenate is split. \n",
    "# Its argument specifies either the number of equal parts the array is divided into, or it specifies explicitly the break points.\n",
    "\n",
    "d=np.arange(12).reshape(6,2)\n",
    "print(\"d:\")\n",
    "print(d)\n",
    "d1,d2 = np.split(d, 2)\n",
    "print(\"d1:\")\n",
    "print(d1)\n",
    "print(\"d2:\")\n",
    "print(d2)\n",
    "d3,d4 = np.split(d, 2, axis=1)\n",
    "print(\"d3:\")\n",
    "print(d3)\n",
    "print(\"d4:\")\n",
    "print(d4)"
   ]
  },
  {
   "cell_type": "code",
   "execution_count": 36,
   "metadata": {},
   "outputs": [
    {
     "output_type": "stream",
     "name": "stdout",
     "text": [
      "d:\n[[ 0  1  2  3  4  5]\n [ 6  7  8  9 10 11]]\npart 0:\n[[0 1]\n [6 7]]\npart 1:\n[[2]\n [8]]\npart 2:\n[[ 3  4]\n [ 9 10]]\npart 3:\n[[ 5]\n [11]]\n"
     ]
    }
   ],
   "source": [
    "d=np.arange(12).reshape(2,6)\n",
    "print(\"d:\")\n",
    "print(d)\n",
    "parts=np.split(d, (2,3,5), axis=1)\n",
    "for i, p in enumerate(parts):\n",
    "    print(\"part %i:\" % i)\n",
    "    print(p)"
   ]
  },
  {
   "cell_type": "code",
   "execution_count": 37,
   "metadata": {},
   "outputs": [
    {
     "output_type": "stream",
     "name": "stdout",
     "text": [
      "[[0 0 1 0 0]\n [0 1 0 1 0]\n [1 0 0 0 1]]\n\n[[0 0 1 0 0]\n [0 1 0 1 0]\n [1 0 0 0 1]\n [0 1 0 1 0]\n [0 0 1 0 0]]\n"
     ]
    }
   ],
   "source": [
    "    inital_array = np.eye(3, dtype=int)\n",
    "    half_diamnond = np.concatenate((inital_array[::-1],inital_array[:,1:]), axis=1)\n",
    "    full_diamond = np.concatenate((half_diamnond[:-1],half_diamnond[::-1]), axis=0)\n",
    "    print(half_diamnond)\n",
    "    print()\n",
    "    print(full_diamond)"
   ]
  },
  {
   "cell_type": "code",
   "execution_count": 38,
   "metadata": {},
   "outputs": [
    {
     "output_type": "execute_result",
     "data": {
      "text/plain": [
       "array([[0, 0, 1],\n",
       "       [0, 1, 0],\n",
       "       [1, 0, 0]])"
      ]
     },
     "metadata": {},
     "execution_count": 38
    }
   ],
   "source": [
    "a = np.eye(3, dtype=int)\n",
    "a = a[::-1]\n",
    "a"
   ]
  },
  {
   "source": [
    "## Fancy indexing\n",
    "Fancy indexing provides a concise syntax for accessing multiple elements:"
   ],
   "cell_type": "markdown",
   "metadata": {}
  },
  {
   "cell_type": "code",
   "execution_count": 39,
   "metadata": {},
   "outputs": [
    {
     "output_type": "stream",
     "name": "stdout",
     "text": [
      "[12 15  0  3  3  7  9 19 18  4  6 12  1  6  7 14 17  5 13  8]\n[ 0  7 19]\n"
     ]
    }
   ],
   "source": [
    "# Using indexing we can get a single elements from an array. If we wanted multiple (not necessarily contiguous) elements, we would have to index several times:\n",
    "np.random.seed(0)\n",
    "a=np.random.randint(0, 20,20)\n",
    "a2=np.array([a[2], a[5], a[7]])\n",
    "print(a)\n",
    "print(a2)"
   ]
  },
  {
   "cell_type": "code",
   "execution_count": 40,
   "metadata": {},
   "outputs": [
    {
     "output_type": "stream",
     "name": "stdout",
     "text": [
      "[ 0  7 19]\n[ 0  7 19]\n"
     ]
    }
   ],
   "source": [
    "# fancy indexing\n",
    "idx=[2,5,7]           # List of indices\n",
    "print(a[idx])         # In fancy indexing in place of a single index, we can provide a list of indices\n",
    "print(a[[2,5,7]])     # Or directly"
   ]
  },
  {
   "cell_type": "code",
   "execution_count": 41,
   "metadata": {},
   "outputs": [
    {
     "output_type": "stream",
     "name": "stdout",
     "text": [
      "[12 15 -1  3  3 -1  9 -1 18  4  6 12  1  6  7 14 17  5 13  8]\n"
     ]
    }
   ],
   "source": [
    "#We can also assign to multiple elements through fancy indexing:\n",
    "a[idx] = -1\n",
    "print(a)"
   ]
  },
  {
   "cell_type": "code",
   "execution_count": 42,
   "metadata": {},
   "outputs": [
    {
     "output_type": "stream",
     "name": "stdout",
     "text": [
      "[[ 0  1  2  3]\n [ 4  5  6  7]\n [ 8  9 10 11]\n [12 13 14 15]]\n[ 1 11]\n"
     ]
    }
   ],
   "source": [
    "#Fancy indexing works also for higher dimensional arrays:\n",
    "b=np.arange(16).reshape(4,4)\n",
    "print(b)\n",
    "row=np.array([0,2])\n",
    "col=np.array([1,3])\n",
    "print(b[row, col])"
   ]
  },
  {
   "cell_type": "code",
   "execution_count": 43,
   "metadata": {},
   "outputs": [
    {
     "output_type": "stream",
     "name": "stdout",
     "text": [
      "[[0 0]\n [2 2]]\n[[1 3]\n [1 3]]\n[[ 1  3]\n [ 9 11]]\n"
     ]
    }
   ],
   "source": [
    "#Note that the result array was one dimensional! The shape of the result array is defined by the shape of the index arrays, not by the shape of the original array. The next example will demonstrate this.\n",
    "\n",
    "row2=np.array([[0, 0], [2,2]])\n",
    "col2=np.array([[1,3], [1,3]])\n",
    "print(row2)\n",
    "print(col2)\n",
    "print(b[row2, col2])"
   ]
  },
  {
   "source": [
    "## Sorting arrays"
   ],
   "cell_type": "markdown",
   "metadata": {}
  },
  {
   "cell_type": "code",
   "execution_count": 44,
   "metadata": {},
   "outputs": [
    {
     "output_type": "stream",
     "name": "stdout",
     "text": [
      "[1 2 3 4 5]\n[2 1 4 3 5]\n"
     ]
    }
   ],
   "source": [
    "a=np.array([2,1,4,3,5])\n",
    "print(np.sort(a))          # Does not modify the argument\n",
    "print(a)"
   ]
  },
  {
   "cell_type": "code",
   "execution_count": 45,
   "metadata": {},
   "outputs": [
    {
     "output_type": "stream",
     "name": "stdout",
     "text": [
      "[1 2 3 4 5]\n"
     ]
    }
   ],
   "source": [
    "a.sort()            # Modifies the argument\n",
    "print(a)"
   ]
  },
  {
   "cell_type": "code",
   "execution_count": 46,
   "metadata": {},
   "outputs": [
    {
     "output_type": "stream",
     "name": "stdout",
     "text": [
      "[[9 4 3 0]\n [3 5 0 2]\n [3 8 1 3]\n [3 3 7 0]]\n"
     ]
    }
   ],
   "source": [
    "b=np.random.randint(0,10, (4,4))\n",
    "print(b)"
   ]
  },
  {
   "cell_type": "code",
   "execution_count": 47,
   "metadata": {},
   "outputs": [
    {
     "output_type": "execute_result",
     "data": {
      "text/plain": [
       "array([[3, 3, 0, 0],\n",
       "       [3, 4, 1, 0],\n",
       "       [3, 5, 3, 2],\n",
       "       [9, 8, 7, 3]])"
      ]
     },
     "metadata": {},
     "execution_count": 47
    }
   ],
   "source": [
    "np.sort(b, axis=0)           # sort each column"
   ]
  },
  {
   "cell_type": "code",
   "execution_count": 48,
   "metadata": {},
   "outputs": [
    {
     "output_type": "execute_result",
     "data": {
      "text/plain": [
       "array([[0, 3, 4, 9],\n",
       "       [0, 2, 3, 5],\n",
       "       [1, 3, 3, 8],\n",
       "       [0, 3, 3, 7]])"
      ]
     },
     "metadata": {},
     "execution_count": 48
    }
   ],
   "source": [
    "np.sort(b, axis=1) "
   ]
  },
  {
   "cell_type": "code",
   "execution_count": 49,
   "metadata": {},
   "outputs": [
    {
     "output_type": "stream",
     "name": "stdout",
     "text": [
      "Array a: [23 12 47 35 59]\nIndices: [1 0 3 2 4]\n"
     ]
    }
   ],
   "source": [
    "# A related operation is the argsort function. Which doesn’t sort the elements, but returns the indices of the sorted elements. An example will demonstrate this:\n",
    "a=np.array([23,12,47,35,59])\n",
    "print(\"Array a:\", a)\n",
    "idx = np.argsort(a)\n",
    "print(\"Indices:\", idx)"
   ]
  },
  {
   "cell_type": "code",
   "execution_count": 50,
   "metadata": {},
   "outputs": [
    {
     "output_type": "stream",
     "name": "stdout",
     "text": [
      "[12 23 35 47 59]\n"
     ]
    }
   ],
   "source": [
    "print(a[idx])"
   ]
  },
  {
   "cell_type": "code",
   "execution_count": 54,
   "metadata": {},
   "outputs": [
    {
     "output_type": "execute_result",
     "data": {
      "text/plain": [
       "array([[9, 4, 3, 0],\n",
       "       [3, 5, 0, 2],\n",
       "       [3, 8, 1, 3],\n",
       "       [3, 3, 7, 0]])"
      ]
     },
     "metadata": {},
     "execution_count": 54
    }
   ],
   "source": [
    "b"
   ]
  },
  {
   "cell_type": "code",
   "execution_count": 53,
   "metadata": {},
   "outputs": [
    {
     "output_type": "execute_result",
     "data": {
      "text/plain": [
       "array([3, 0, 1, 7])"
      ]
     },
     "metadata": {},
     "execution_count": 53
    }
   ],
   "source": [
    "b[:,2]"
   ]
  }
 ]
}